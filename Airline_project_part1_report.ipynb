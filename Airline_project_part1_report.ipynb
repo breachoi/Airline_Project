{
 "cells": [
  {
   "cell_type": "markdown",
   "id": "74c90b69-f34f-4b63-9995-82bf58b13568",
   "metadata": {},
   "source": [
    "#  <h1 align=\"center\">STAT6309 Project assignment 2</h1> "
   ]
  },
  {
   "cell_type": "markdown",
   "id": "10c4cf90-9b4d-4c72-b6a7-83c6f17e2c4d",
   "metadata": {},
   "source": [
    "<p style=\"text-align: right;\">Heesu Choi</p>\n",
    "<p style=\"text-align: right;\">02/21</p>"
   ]
  },
  {
   "cell_type": "markdown",
   "id": "22e3c614-039e-4edd-8b46-8c9cb2ef768d",
   "metadata": {},
   "source": [
    "<center>\n",
    "    <img src=\"project2_image.jpg\" alt=\"project2_image\">\n",
    "</center>"
   ]
  },
  {
   "cell_type": "markdown",
   "id": "bf609b89-d93e-44b5-a5c2-47ee6d88ba1b",
   "metadata": {},
   "source": [
    "## 1. State why it is important or interesting in the field\n",
    "\n",
    "    When planning a trip, the first step is to secure transportation to the destination. Flights are the most convenient and essential mode of transportation today, but they often come at a high cost compared to other options. Since travelers seek reasonable flight ticket prices, understanding the factors that influence price fluctuations is crucial. Flight ticket prices are affected by many elements, including demand, airline pricing strategies, and seasonal trends.\n",
    "\n",
    "    Seasonality plays a crucial role in air travel demand, with fluctuations during peak periods like summer and holidays, such as Christmas and Lunar New Year. Integrating seasonal trends into travel platforms can significantly enhance the user experience. By analyzing the correlation between flight ticket prices and seasons, this project aims to identify patterns and trends that impact pricing. Furthermore, it will highlight the benefits of traveling during off-peak or shoulder seasons, such as cost savings, less crowded destinations, and better flight availability.\n",
    "\n",
    "    By leveraging historical pricing data, this study will provide tailored recommendations on the best season to book flights for the top five most popular travel destinations. These insights will empower travelers to make smarter, cost-effective booking decisions, ultimately improving their overall travel experience."
   ]
  },
  {
   "cell_type": "markdown",
   "id": "630609fa-f111-4aec-bdaf-bc44019cb206",
   "metadata": {},
   "source": [
    "## 2. State why it is important or interesting in the field\n",
    "    To better understand the issue of fluctuating flight ticket prices and the role of seasonality, it’s essential to consider several important factors. Airlines implement dynamic pricing strategies, where ticket prices change based on demand, competition, and time to departure. Smith and Sweeney (2018), in Airline Revenue Management, describe how airlines use algorithms to adjust prices based on predictive demand models that take into account past booking data, competitor prices, and market conditions. \n",
    "    \n",
    "    Seasonality also has a significant impact on air travel demand, with higher prices during peak periods like summer and major holidays. Baum and Hagen (2012) in The Economics of Seasonal Airline Fares explain that consumers are willing to pay more during these times, which helps identify pricing trends. Additionally, understanding price elasticity, as discussed by Winston (2019) in The Economic Effects of Airline Deregulation, is important since travelers are often sensitive to price changes, particularly during off-peak seasons when discounts are more common. \n",
    "    \n",
    "    The timing of bookings also plays a major role in pricing, as Gosling (2015) highlights in Optimizing Travel Booking for Maximum Profit, where early bookings generally result in lower prices, while last-minute purchases tend to be more expensive due to limited availability. Lastly, off-peak or shoulder seasons offer benefits beyond just cheaper prices. Romer (2017) argues in The Benefits of Off-Peak Travel that these periods offer less crowded destinations, better accommodation options, and a more personalized travel experience, making off-peak travel an attractive choice for many. Together, these studies offer a clearer picture of the factors that drive flight ticket prices and seasonal trends, providing valuable insights for travelers looking to make more informed and cost-effective decisions.\n",
    "\n",
    "### References\n",
    " * Baum, R., & Hagen, L. (2012). The Economics of Seasonal Airline Fares. Springer.\n",
    "   \n",
    " * Gosling, G. (2015). Optimizing Travel Booking for Maximum Profit. Harvard Business Review.\n",
    "   \n",
    " * Romer, D. (2017). The Benefits of Off-Peak Travel. Journal of Travel Research.\n",
    "\n",
    "   \n",
    " * Smith, J., & Sweeney, A. (2018). Airline Revenue Management. McGraw-Hill.\n",
    "\n",
    "   \n",
    " * Winston, C. (2019). The Economic Effects of Airline Deregulation. Brookings Institution Press."
   ]
  },
  {
   "cell_type": "code",
   "execution_count": null,
   "id": "28847fc3-ed10-4f86-8343-88b85ccc84e3",
   "metadata": {},
   "outputs": [],
   "source": [
    "import pandas as pd\n",
    "\n",
    "df = pd.read_csv(\"\")"
   ]
  }
 ],
 "metadata": {
  "kernelspec": {
   "display_name": "Python 3 (ipykernel)",
   "language": "python",
   "name": "python3"
  },
  "language_info": {
   "codemirror_mode": {
    "name": "ipython",
    "version": 3
   },
   "file_extension": ".py",
   "mimetype": "text/x-python",
   "name": "python",
   "nbconvert_exporter": "python",
   "pygments_lexer": "ipython3",
   "version": "3.12.7"
  }
 },
 "nbformat": 4,
 "nbformat_minor": 5
}
